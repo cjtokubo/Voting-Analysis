{
 "cells": [
  {
   "cell_type": "code",
   "execution_count": 13,
   "metadata": {},
   "outputs": [],
   "source": [
    "import pandas as pd\n",
    "import matplotlib.pyplot as plt"
   ]
  },
  {
   "cell_type": "code",
   "execution_count": 64,
   "metadata": {},
   "outputs": [],
   "source": [
    "data = pd.read_csv('/Users/chancetokubo/mess/fivethirtyeight_election_deniers.csv')\n",
    "literacy = pd.read_csv('/Users/chancetokubo/mess/literacy rates - County.csv')\n",
    "election = pd.read_csv('/Users/chancetokubo/mess/countypres_2000-2020.csv')"
   ]
  },
  {
   "cell_type": "code",
   "execution_count": 68,
   "metadata": {},
   "outputs": [
    {
     "data": {
      "text/plain": [
       "1865"
      ]
     },
     "execution_count": 68,
     "metadata": {},
     "output_type": "execute_result"
    }
   ],
   "source": [
    "election = election[election['year']==2020]\n",
    "election['county_name'].nunique()"
   ]
  },
  {
   "cell_type": "code",
   "execution_count": 69,
   "metadata": {},
   "outputs": [
    {
     "data": {
      "text/html": [
       "<div>\n",
       "<style scoped>\n",
       "    .dataframe tbody tr th:only-of-type {\n",
       "        vertical-align: middle;\n",
       "    }\n",
       "\n",
       "    .dataframe tbody tr th {\n",
       "        vertical-align: top;\n",
       "    }\n",
       "\n",
       "    .dataframe thead tr th {\n",
       "        text-align: left;\n",
       "    }\n",
       "</style>\n",
       "<table border=\"1\" class=\"dataframe\">\n",
       "  <thead>\n",
       "    <tr>\n",
       "      <th></th>\n",
       "      <th>county_name</th>\n",
       "      <th colspan=\"5\" halign=\"left\">candidatevotes</th>\n",
       "    </tr>\n",
       "    <tr>\n",
       "      <th>party</th>\n",
       "      <th></th>\n",
       "      <th>DEMOCRAT</th>\n",
       "      <th>GREEN</th>\n",
       "      <th>LIBERTARIAN</th>\n",
       "      <th>OTHER</th>\n",
       "      <th>REPUBLICAN</th>\n",
       "    </tr>\n",
       "  </thead>\n",
       "  <tbody>\n",
       "    <tr>\n",
       "      <th>0</th>\n",
       "      <td>ABBEVILLE</td>\n",
       "      <td>4101</td>\n",
       "      <td>23</td>\n",
       "      <td>88</td>\n",
       "      <td>6</td>\n",
       "      <td>8215</td>\n",
       "    </tr>\n",
       "    <tr>\n",
       "      <th>1</th>\n",
       "      <td>ACADIA</td>\n",
       "      <td>5443</td>\n",
       "      <td>0</td>\n",
       "      <td>241</td>\n",
       "      <td>145</td>\n",
       "      <td>22596</td>\n",
       "    </tr>\n",
       "    <tr>\n",
       "      <th>2</th>\n",
       "      <td>ACCOMACK</td>\n",
       "      <td>7578</td>\n",
       "      <td>0</td>\n",
       "      <td>188</td>\n",
       "      <td>24</td>\n",
       "      <td>9172</td>\n",
       "    </tr>\n",
       "    <tr>\n",
       "      <th>3</th>\n",
       "      <td>ADA</td>\n",
       "      <td>120539</td>\n",
       "      <td>0</td>\n",
       "      <td>5310</td>\n",
       "      <td>2841</td>\n",
       "      <td>130699</td>\n",
       "    </tr>\n",
       "    <tr>\n",
       "      <th>4</th>\n",
       "      <td>ADAIR</td>\n",
       "      <td>7687</td>\n",
       "      <td>47</td>\n",
       "      <td>314</td>\n",
       "      <td>140</td>\n",
       "      <td>22196</td>\n",
       "    </tr>\n",
       "    <tr>\n",
       "      <th>...</th>\n",
       "      <td>...</td>\n",
       "      <td>...</td>\n",
       "      <td>...</td>\n",
       "      <td>...</td>\n",
       "      <td>...</td>\n",
       "      <td>...</td>\n",
       "    </tr>\n",
       "    <tr>\n",
       "      <th>1860</th>\n",
       "      <td>YUBA</td>\n",
       "      <td>11230</td>\n",
       "      <td>124</td>\n",
       "      <td>510</td>\n",
       "      <td>256</td>\n",
       "      <td>17676</td>\n",
       "    </tr>\n",
       "    <tr>\n",
       "      <th>1861</th>\n",
       "      <td>YUMA</td>\n",
       "      <td>32995</td>\n",
       "      <td>2</td>\n",
       "      <td>1189</td>\n",
       "      <td>35</td>\n",
       "      <td>40641</td>\n",
       "    </tr>\n",
       "    <tr>\n",
       "      <th>1862</th>\n",
       "      <td>ZAPATA</td>\n",
       "      <td>1826</td>\n",
       "      <td>4</td>\n",
       "      <td>11</td>\n",
       "      <td>0</td>\n",
       "      <td>2033</td>\n",
       "    </tr>\n",
       "    <tr>\n",
       "      <th>1863</th>\n",
       "      <td>ZAVALA</td>\n",
       "      <td>2864</td>\n",
       "      <td>12</td>\n",
       "      <td>13</td>\n",
       "      <td>0</td>\n",
       "      <td>1490</td>\n",
       "    </tr>\n",
       "    <tr>\n",
       "      <th>1864</th>\n",
       "      <td>ZIEBACH</td>\n",
       "      <td>481</td>\n",
       "      <td>0</td>\n",
       "      <td>21</td>\n",
       "      <td>0</td>\n",
       "      <td>404</td>\n",
       "    </tr>\n",
       "  </tbody>\n",
       "</table>\n",
       "<p>1865 rows × 6 columns</p>\n",
       "</div>"
      ],
      "text/plain": [
       "      county_name candidatevotes                                   \n",
       "party                   DEMOCRAT GREEN LIBERTARIAN OTHER REPUBLICAN\n",
       "0       ABBEVILLE           4101    23          88     6       8215\n",
       "1          ACADIA           5443     0         241   145      22596\n",
       "2        ACCOMACK           7578     0         188    24       9172\n",
       "3             ADA         120539     0        5310  2841     130699\n",
       "4           ADAIR           7687    47         314   140      22196\n",
       "...           ...            ...   ...         ...   ...        ...\n",
       "1860         YUBA          11230   124         510   256      17676\n",
       "1861         YUMA          32995     2        1189    35      40641\n",
       "1862       ZAPATA           1826     4          11     0       2033\n",
       "1863       ZAVALA           2864    12          13     0       1490\n",
       "1864      ZIEBACH            481     0          21     0        404\n",
       "\n",
       "[1865 rows x 6 columns]"
      ]
     },
     "execution_count": 69,
     "metadata": {},
     "output_type": "execute_result"
    }
   ],
   "source": [
    "combined_votes = election.pivot_table(\n",
    "    index = ['county_name'],\n",
    "    columns = ['party'],\n",
    "    values = ['candidatevotes'],\n",
    "    aggfunc='sum',               \n",
    "    fill_value=0                 # Replace NaNs with 0\n",
    ").reset_index()\n",
    "combined_votes "
   ]
  },
  {
   "cell_type": "code",
   "execution_count": null,
   "metadata": {},
   "outputs": [
    {
     "name": "stdout",
     "output_type": "stream",
     "text": [
      "34562 72617\n",
      "34562 576\n"
     ]
    }
   ],
   "source": [
    "#todo\n",
    "'''\n",
    "fix the literacy file so that it becomes better to use (since it is 5 years of data)\n",
    "combine to make an average of all the years\n",
    "'''\n",
    "\n",
    "print(len(literacy['County']) ,len(combined_votes['county_name']))\n",
    "\n",
    "election = election[(election['county_name'].str.lower()).isin((literacy['County'].str.lower()))]\n",
    "\n"
   ]
  },
  {
   "cell_type": "code",
   "execution_count": 15,
   "metadata": {},
   "outputs": [
    {
     "data": {
      "image/png": "[encoded data removed]",
      "text/plain": [
       "<Figure size 640x480 with 1 Axes>"
      ]
     },
     "metadata": {},
     "output_type": "display_data"
    }
   ],
   "source": [
    "x = data['State']\n",
    "y = data['Stance']\n",
    "plt.scatter(x,y)\n",
    "plt.show()"
   ]
  }
 ],
 "metadata": {
  "kernelspec": {
   "display_name": "base",
   "language": "python",
   "name": "python3"
  },
  "language_info": {
   "codemirror_mode": {
    "name": "ipython",
    "version": 3
   },
   "file_extension": ".py",
   "mimetype": "text/x-python",
   "name": "python",
   "nbconvert_exporter": "python",
   "pygments_lexer": "ipython3",
   "version": "3.12.7"
  }
 },
 "nbformat": 4,
 "nbformat_minor": 2
}
